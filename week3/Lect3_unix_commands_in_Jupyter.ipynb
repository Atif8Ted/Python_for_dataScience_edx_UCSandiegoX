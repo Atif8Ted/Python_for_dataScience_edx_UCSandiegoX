{
 "cells": [
  {
   "cell_type": "code",
   "execution_count": 3,
   "metadata": {},
   "outputs": [
    {
     "name": "stdout",
     "output_type": "stream",
     "text": [
      "total 9\r\n",
      "-rwxrwxrwx 1 atif atif 1310 Jul  7 02:34 Lec1_IntroNotebook.ipynb\r\n",
      "-rwxrwxrwx 1 atif atif 1087 Jul  7 02:53 Lec2_Markdown.ipynb\r\n",
      "-rwxrwxrwx 1 atif atif   72 Jul  7 02:53 Lect3_unix_commands_in_Jupyter.ipynb\r\n"
     ]
    }
   ],
   "source": [
    "!ls -l"
   ]
  },
  {
   "cell_type": "code",
   "execution_count": 4,
   "metadata": {},
   "outputs": [
    {
     "name": "stdout",
     "output_type": "stream",
     "text": [
      "{\r\n",
      " \"cells\": [\r\n",
      "  {\r\n",
      "   \"cell_type\": \"code\",\r\n",
      "   \"execution_count\": 3,\r\n",
      "   \"metadata\": {},\r\n",
      "   \"outputs\": [\r\n",
      "    {\r\n",
      "     \"data\": {\r\n",
      "      \"text/plain\": [\r\n",
      "       \"12410\"\r\n",
      "      ]\r\n",
      "     },\r\n",
      "     \"execution_count\": 3,\r\n",
      "     \"metadata\": {},\r\n",
      "     \"output_type\": \"execute_result\"\r\n",
      "    }\r\n",
      "   ],\r\n",
      "   \"source\": [\r\n",
      "    \"365*34\"\r\n",
      "   ]\r\n",
      "  },\r\n",
      "  {\r\n",
      "   \"cell_type\": \"code\",\r\n",
      "   \"execution_count\": 5,\r\n",
      "   \"metadata\": {},\r\n",
      "   \"outputs\": [\r\n",
      "    {\r\n",
      "     \"data\": {\r\n",
      "      \"text/plain\": [\r\n",
      "       \"3102.5\"\r\n",
      "      ]\r\n",
      "     },\r\n",
      "     \"execution_count\": 5,\r\n",
      "     \"metadata\": {},\r\n",
      "     \"output_type\": \"execute_result\"\r\n",
      "    }\r\n",
      "   ],\r\n",
      "   \"source\": [\r\n",
      "    \"_/2\\n\",\r\n",
      "    \"# _ denotes value of last cell executed\"\r\n",
      "   ]\r\n",
      "  },\r\n",
      "  {\r\n",
      "   \"cell_type\": \"code\",\r\n",
      "   \"execution_count\": null,\r\n",
      "   \"metadata\": {},\r\n",
      "   \"outputs\": [],\r\n",
      "   \"source\": []\r\n",
      "  },\r\n",
      "  {\r\n",
      "   \"cell_type\": \"code\",\r\n",
      "   \"execution_count\": null,\r\n",
      "   \"metadata\": {},\r\n",
      "   \"outputs\": [],\r\n",
      "   \"source\": []\r\n",
      "  }\r\n",
      " ],\r\n",
      " \"metadata\": {\r\n",
      "  \"kernelspec\": {\r\n",
      "   \"display_name\": \"Python 3\",\r\n",
      "   \"language\": \"python\",\r\n",
      "   \"name\": \"python3\"\r\n",
      "  },\r\n",
      "  \"language_info\": {\r\n",
      "   \"codemirror_mode\": {\r\n",
      "    \"name\": \"ipython\",\r\n",
      "    \"version\": 3\r\n",
      "   },\r\n",
      "   \"file_extension\": \".py\",\r\n",
      "   \"mimetype\": \"text/x-python\",\r\n",
      "   \"name\": \"python\",\r\n",
      "   \"nbconvert_exporter\": \"python\",\r\n",
      "   \"pygments_lexer\": \"ipython3\",\r\n",
      "   \"version\": \"3.5.2\"\r\n",
      "  }\r\n",
      " },\r\n",
      " \"nbformat\": 4,\r\n",
      " \"nbformat_minor\": 2\r\n",
      "}\r\n"
     ]
    }
   ],
   "source": [
    "!cat Lec1_IntroNotebook.ipynb"
   ]
  },
  {
   "cell_type": "code",
   "execution_count": 5,
   "metadata": {},
   "outputs": [
    {
     "name": "stdout",
     "output_type": "stream",
     "text": [
      "{\r\n",
      " \"cells\": [\r\n",
      "  {\r\n",
      "   \"cell_type\": \"markdown\",\r\n",
      "   \"metadata\": {},\r\n",
      "   \"source\": [\r\n",
      "    \"hi\"\r\n",
      "   ]\r\n",
      "  },\r\n",
      "  {\r\n"
     ]
    }
   ],
   "source": [
    "!head Lec2_Markdown.ipynb"
   ]
  },
  {
   "cell_type": "code",
   "execution_count": 6,
   "metadata": {},
   "outputs": [
    {
     "name": "stdout",
     "output_type": "stream",
     "text": [
      "   \"mimetype\": \"text/x-python\",\r\n",
      "   \"name\": \"python\",\r\n",
      "   \"nbconvert_exporter\": \"python\",\r\n",
      "   \"pygments_lexer\": \"ipython3\",\r\n",
      "   \"version\": \"3.5.2\"\r\n",
      "  }\r\n",
      " },\r\n",
      " \"nbformat\": 4,\r\n",
      " \"nbformat_minor\": 2\r\n",
      "}\r\n"
     ]
    }
   ],
   "source": [
    "!tail Lec1_IntroNotebook.ipynb"
   ]
  },
  {
   "cell_type": "code",
   "execution_count": null,
   "metadata": {},
   "outputs": [],
   "source": []
  }
 ],
 "metadata": {
  "kernelspec": {
   "display_name": "Python 3",
   "language": "python",
   "name": "python3"
  },
  "language_info": {
   "codemirror_mode": {
    "name": "ipython",
    "version": 3
   },
   "file_extension": ".py",
   "mimetype": "text/x-python",
   "name": "python",
   "nbconvert_exporter": "python",
   "pygments_lexer": "ipython3",
   "version": "3.5.2"
  }
 },
 "nbformat": 4,
 "nbformat_minor": 2
}
