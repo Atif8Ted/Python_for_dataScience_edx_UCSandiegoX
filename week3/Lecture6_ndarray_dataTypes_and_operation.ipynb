{
 "cells": [
  {
   "cell_type": "code",
   "execution_count": 1,
   "metadata": {},
   "outputs": [],
   "source": [
    "import numpy as np"
   ]
  },
  {
   "cell_type": "code",
   "execution_count": 2,
   "metadata": {},
   "outputs": [
    {
     "name": "stdout",
     "output_type": "stream",
     "text": [
      "[11 13]\n",
      "int64\n"
     ]
    }
   ],
   "source": [
    "ex1=np.array([11,13])\n",
    "print(ex1)\n",
    "print(ex1.dtype)"
   ]
  },
  {
   "cell_type": "code",
   "execution_count": 4,
   "metadata": {},
   "outputs": [
    {
     "name": "stdout",
     "output_type": "stream",
     "text": [
      "[11. 13.]\n",
      "float64\n"
     ]
    }
   ],
   "source": [
    "ex2=np.array([11.0,13.0])\n",
    "print(ex2)\n",
    "print(ex2.dtype)"
   ]
  },
  {
   "cell_type": "code",
   "execution_count": 7,
   "metadata": {},
   "outputs": [
    {
     "name": "stdout",
     "output_type": "stream",
     "text": [
      "[11 12]\n",
      "int64\n"
     ]
    }
   ],
   "source": [
    "ex3=np.array([11.0,12.0],dtype=np.int64) # filling float but forcing to int64\n",
    "print(ex3)\n",
    "print(ex3.dtype)"
   ]
  },
  {
   "cell_type": "markdown",
   "metadata": {},
   "source": [
    "## Arithmatic Array Operation"
   ]
  },
  {
   "cell_type": "code",
   "execution_count": 9,
   "metadata": {},
   "outputs": [
    {
     "name": "stdout",
     "output_type": "stream",
     "text": [
      "[[111 112]\n",
      " [121 122]]\n",
      "\n",
      "[[211.1 212.1]\n",
      " [221.1 222.1]]\n"
     ]
    }
   ],
   "source": [
    "x=np.array([[111,112],[121,122]],dtype=np.int)\n",
    "y=np.array([[211.1,212.1],[221.1,222.1]],dtype=np.float64)\n",
    "print(x)\n",
    "print()\n",
    "print(y)"
   ]
  },
  {
   "cell_type": "code",
   "execution_count": 12,
   "metadata": {},
   "outputs": [
    {
     "name": "stdout",
     "output_type": "stream",
     "text": [
      "[[322.1 324.1]\n",
      " [342.1 344.1]]\n",
      "\n",
      "[[322.1 324.1]\n",
      " [342.1 344.1]]\n"
     ]
    }
   ],
   "source": [
    "# add\n",
    "print(x+y)\n",
    "# or better to \n",
    "print()\n",
    "print(np.add(x,y))"
   ]
  },
  {
   "cell_type": "code",
   "execution_count": 14,
   "metadata": {},
   "outputs": [
    {
     "name": "stdout",
     "output_type": "stream",
     "text": [
      "[[-100.1 -100.1]\n",
      " [-100.1 -100.1]]\n",
      "\n",
      "[[-100.1 -100.1]\n",
      " [-100.1 -100.1]]\n"
     ]
    }
   ],
   "source": [
    "# substract\n",
    "print(x-y)\n",
    "print()\n",
    "\n",
    "print(np.subtract(x,y))"
   ]
  },
  {
   "cell_type": "code",
   "execution_count": 15,
   "metadata": {},
   "outputs": [
    {
     "name": "stdout",
     "output_type": "stream",
     "text": [
      "[[23432.1 23755.2]\n",
      " [26753.1 27096.2]]\n",
      "\n",
      "[[23432.1 23755.2]\n",
      " [26753.1 27096.2]]\n"
     ]
    }
   ],
   "source": [
    "# Multiply\n",
    "print(x*y)\n",
    "print()\n",
    "\n",
    "print(np.multiply(x,y))"
   ]
  },
  {
   "cell_type": "code",
   "execution_count": 16,
   "metadata": {},
   "outputs": [
    {
     "name": "stdout",
     "output_type": "stream",
     "text": [
      "[[0.52581715 0.52805281]\n",
      " [0.54726368 0.54930212]]\n",
      "\n",
      "[[0.52581715 0.52805281]\n",
      " [0.54726368 0.54930212]]\n"
     ]
    }
   ],
   "source": [
    "# Divide\n",
    "print(x/y)\n",
    "print()\n",
    "\n",
    "print(np.divide(x,y))"
   ]
  },
  {
   "cell_type": "code",
   "execution_count": 17,
   "metadata": {},
   "outputs": [
    {
     "name": "stdout",
     "output_type": "stream",
     "text": [
      "[[10.53565375 10.58300524]\n",
      " [11.         11.04536102]]\n"
     ]
    }
   ],
   "source": [
    "# square root\n",
    "print(np.sqrt(x))"
   ]
  },
  {
   "cell_type": "code",
   "execution_count": 18,
   "metadata": {},
   "outputs": [
    {
     "name": "stdout",
     "output_type": "stream",
     "text": [
      "[[1.60948707e+48 4.37503945e+48]\n",
      " [3.54513118e+52 9.63666567e+52]]\n"
     ]
    }
   ],
   "source": [
    "#exponent(e**x)\n",
    "\n",
    "print(np.exp(x))"
   ]
  },
  {
   "cell_type": "code",
   "execution_count": null,
   "metadata": {},
   "outputs": [],
   "source": []
  }
 ],
 "metadata": {
  "kernelspec": {
   "display_name": "Python 3",
   "language": "python",
   "name": "python3"
  },
  "language_info": {
   "codemirror_mode": {
    "name": "ipython",
    "version": 3
   },
   "file_extension": ".py",
   "mimetype": "text/x-python",
   "name": "python",
   "nbconvert_exporter": "python",
   "pygments_lexer": "ipython3",
   "version": "3.5.2"
  }
 },
 "nbformat": 4,
 "nbformat_minor": 2
}
